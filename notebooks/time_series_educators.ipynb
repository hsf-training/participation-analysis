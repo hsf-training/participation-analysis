{
 "cells": [
  {
   "cell_type": "code",
   "execution_count": null,
   "metadata": {},
   "outputs": [],
   "source": [
    "import frontmatter\n",
    "from collections import defaultdict\n",
    "from pathlib import Path\n",
    "import git\n",
    "from datetime import date\n",
    "import matplotlib.pyplot as plt\n",
    "\n",
    "plt.style.use(\n",
    "    \"https://github.com/dhaitz/matplotlib-stylesheets/raw/master/pitayasmoothie-light.mplstyle\"\n",
    ")\n",
    "# plt.style.use('fivethirtyeight')"
   ]
  },
  {
   "cell_type": "code",
   "execution_count": null,
   "metadata": {},
   "outputs": [],
   "source": [
    "educator_keys = [\n",
    "    \"mentor\",\n",
    "    \"instructor\",\n",
    "    \"author\",\n",
    "    \"facilitator\",\n",
    "    \"material\",  # deprecated for author\n",
    "]\n",
    "\n",
    "educator_key_mapping = {\"material\": \"author\"}"
   ]
  },
  {
   "cell_type": "code",
   "execution_count": null,
   "metadata": {},
   "outputs": [],
   "source": [
    "repo = git.Repo(\"/Users/fuchur/Documents/22/git_sync/hsf.github.io/\")"
   ]
  },
  {
   "cell_type": "code",
   "execution_count": null,
   "metadata": {},
   "outputs": [],
   "source": [
    "path = \"_profiles\"\n",
    "\n",
    "educator_counts = defaultdict(list)\n",
    "times = []\n",
    "\n",
    "for commit in repo.iter_commits(paths=path):\n",
    "    try:\n",
    "        traversable = (commit.tree / \"_profiles\").traverse()\n",
    "    except (KeyError, IndexError, ValueError):\n",
    "        continue\n",
    "    try:\n",
    "        educator_count = defaultdict(int)\n",
    "        for entry in traversable:\n",
    "            content = repo.git.show(\"{}:{}\".format(commit.hexsha, entry.path))\n",
    "            try:\n",
    "                dct = frontmatter.loads(content)\n",
    "            except Exception:  # ParserError, where are you defined? ;)\n",
    "                pass\n",
    "            keys = dct.get(\"training_roles\", [])\n",
    "            if keys is None:\n",
    "                continue\n",
    "            roles = [r.casefold() for r in keys]\n",
    "            for k in educator_keys:\n",
    "                if k in roles:\n",
    "                    educator_count[educator_key_mapping.get(k, k)] += 1\n",
    "                else:\n",
    "                    # ensure key is present\n",
    "                    educator_count[educator_key_mapping.get(k, k)] += 0\n",
    "        print(commit, educator_count)\n",
    "        for k, v in educator_count.items():\n",
    "            educator_counts[k].append(v)\n",
    "        times.append(commit.authored_date)\n",
    "    except IndexError:\n",
    "        continue"
   ]
  },
  {
   "cell_type": "code",
   "execution_count": null,
   "metadata": {},
   "outputs": [],
   "source": [
    "dt_times = [date.fromtimestamp(t) for t in times]"
   ]
  },
  {
   "cell_type": "code",
   "execution_count": null,
   "metadata": {},
   "outputs": [],
   "source": [
    "_, ax = plt.subplots()\n",
    "for k, vs in educator_counts.items():\n",
    "    print(k, vs)\n",
    "    ax.plot(dt_times, vs, label=k)\n",
    "ax.legend(frameon=False)"
   ]
  }
 ],
 "metadata": {
  "kernelspec": {
   "display_name": "Python 3",
   "language": "python",
   "name": "python3"
  },
  "language_info": {
   "codemirror_mode": {
    "name": "ipython",
    "version": 2
   },
   "file_extension": ".py",
   "mimetype": "text/x-python",
   "name": "python",
   "nbconvert_exporter": "python",
   "pygments_lexer": "ipython2",
   "version": "2.7.6"
  }
 },
 "nbformat": 4,
 "nbformat_minor": 0
}
