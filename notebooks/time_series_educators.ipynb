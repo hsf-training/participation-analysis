{
 "cells": [
  {
   "cell_type": "code",
   "execution_count": null,
   "metadata": {},
   "outputs": [],
   "source": [
    "import yaml\n",
    "import frontmatter"
   ]
  },
  {
   "cell_type": "code",
   "execution_count": null,
   "metadata": {},
   "outputs": [],
   "source": [
    "from collections import defaultdict\n",
    "from pathlib import Path\n",
    "\n",
    "educator_keys = [\n",
    "    \"mentor\",\n",
    "    \"instructor\",\n",
    "    \"author\",\n",
    "    \"facilitator\",\n",
    "    \"material\",  # deprecated for author\n",
    "]\n",
    "\n",
    "educator_key_mapping = {\"material\": \"author\"}\n",
    "\n",
    "\n",
    "def get_educators(base_dir: Path) -> dict[str, int]:\n",
    "    profile_files = [\n",
    "        f for f in base_dir.glob(\"*.md\") if not \"template\" in f.name.casefold()\n",
    "    ]\n",
    "    educator_count = defaultdict(int)\n",
    "    for f in profile_files:\n",
    "        dct = frontmatter.load(f)\n",
    "        for k in educator_keys:\n",
    "            roles = [r.casefold() for r in dct.get(\"training_roles\", [])]\n",
    "            if k in roles:\n",
    "                educator_count[k] += 1\n",
    "    return educator_count"
   ]
  },
  {
   "cell_type": "code",
   "execution_count": null,
   "metadata": {},
   "outputs": [],
   "source": [
    "get_educators(Path(\"/Users/fuchur/Documents/22/git_sync/hsf.github.io/_profiles/\"))"
   ]
  },
  {
   "cell_type": "code",
   "execution_count": null,
   "metadata": {},
   "outputs": [],
   "source": [
    "import git\n",
    "\n",
    "repo = git.Repo(\"/Users/fuchur/Documents/22/git_sync/hsf.github.io/\")"
   ]
  },
  {
   "cell_type": "code",
   "execution_count": null,
   "metadata": {},
   "outputs": [],
   "source": [
    "path = \"_profiles\"\n",
    "\n",
    "educator_counts = defaultdict(list)\n",
    "times = []\n",
    "\n",
    "for commit in repo.iter_commits(paths=path):\n",
    "    try:\n",
    "        traversable = (commit.tree / \"_profiles\").traverse()\n",
    "    except (KeyError, IndexError, ValueError):\n",
    "        continue\n",
    "    try:\n",
    "        educator_count = defaultdict(int)\n",
    "        for entry in traversable:\n",
    "            content = repo.git.show(\"{}:{}\".format(commit.hexsha, entry.path))\n",
    "            try:\n",
    "                dct = frontmatter.loads(content)\n",
    "            except Exception:  # ParserError\n",
    "                pass\n",
    "            keys = dct.get(\"training_roles\", [])\n",
    "            if keys is None:\n",
    "                continue\n",
    "            roles = [r.casefold() for r in keys]\n",
    "            for k in educator_keys:\n",
    "                if k in roles:\n",
    "                    educator_count[educator_key_mapping.get(k, k)] += 1\n",
    "                else:\n",
    "                    # ensure key is present\n",
    "                    educator_count[educator_key_mapping.get(k, k)] += 0\n",
    "        print(commit, educator_count)\n",
    "        for k, v in educator_count.items():\n",
    "            educator_counts[k].append(v)\n",
    "        times.append(commit.authored_date)\n",
    "    except IndexError:\n",
    "        continue"
   ]
  },
  {
   "cell_type": "code",
   "execution_count": null,
   "metadata": {},
   "outputs": [],
   "source": [
    "from datetime import date\n",
    "\n",
    "dt_times = [date.fromtimestamp(t) for t in times]"
   ]
  },
  {
   "cell_type": "code",
   "execution_count": null,
   "metadata": {},
   "outputs": [],
   "source": [
    "import matplotlib.pyplot as plt"
   ]
  },
  {
   "cell_type": "code",
   "execution_count": null,
   "metadata": {},
   "outputs": [],
   "source": [
    "educator_counts.keys()"
   ]
  },
  {
   "cell_type": "code",
   "execution_count": null,
   "metadata": {},
   "outputs": [],
   "source": [
    "plt.style.use(\n",
    "    \"https://github.com/dhaitz/matplotlib-stylesheets/raw/master/pitayasmoothie-light.mplstyle\"\n",
    ")\n",
    "# plt.style.use('fivethirtyeight')\n",
    "\n",
    "_, ax = plt.subplots()\n",
    "for k, vs in educator_counts.items():\n",
    "    print(k, vs)\n",
    "    ax.plot(dt_times, vs, label=k)\n",
    "ax.legend(frameon=False)"
   ]
  },
  {
   "cell_type": "code",
   "execution_count": null,
   "metadata": {},
   "outputs": [],
   "source": []
  }
 ],
 "metadata": {
  "kernelspec": {
   "display_name": "Python 3",
   "language": "python",
   "name": "python3"
  },
  "language_info": {
   "codemirror_mode": {
    "name": "ipython",
    "version": 2
   },
   "file_extension": ".py",
   "mimetype": "text/x-python",
   "name": "python",
   "nbconvert_exporter": "python",
   "pygments_lexer": "ipython2",
   "version": "2.7.6"
  }
 },
 "nbformat": 4,
 "nbformat_minor": 0
}
