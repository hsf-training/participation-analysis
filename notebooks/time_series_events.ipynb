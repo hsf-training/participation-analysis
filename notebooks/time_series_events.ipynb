{
 "cells": [
  {
   "cell_type": "code",
   "execution_count": null,
   "metadata": {},
   "outputs": [],
   "source": [
    "import numpy as np\n",
    "import datetime\n",
    "import pandas as pd\n",
    "import matplotlib.pyplot as plt\n",
    "import dufte\n",
    "import matplotlib\n",
    "\n",
    "# plt.style.use(dufte.style)\n",
    "# plt.style.use('https://github.com/dhaitz/matplotlib-stylesheets/raw/master/pitayasmoothie-light.mplstyle')\n",
    "plt.style.use(\"science\")\n",
    "plt.style.use(\"notebook\")\n",
    "\n",
    "\n",
    "def weighted_dates2series(\n",
    "    participants: np.ndarray,\n",
    "    dates: np.ndarray,\n",
    "    start=None,\n",
    "    end=None,\n",
    ") -> pd.Series:\n",
    "    start = start or min(dates)\n",
    "    end = end or max(dates)\n",
    "    index = [\n",
    "        start + i * datetime.timedelta(days=1) for i in range((end - start).days + 1)\n",
    "    ]\n",
    "    # terribly inefficient\n",
    "    values = np.array([participants[dates <= ind].sum() for ind in index])\n",
    "    assert values.max() == participants.sum()\n",
    "    return pd.Series(values, index=index)"
   ]
  },
  {
   "cell_type": "code",
   "execution_count": null,
   "metadata": {},
   "outputs": [],
   "source": [
    "def get_date_series(df: pd.DataFrame, **kwargs) -> pd.Series:\n",
    "    return weighted_dates2series(df[\"Registrations\"], df[\"Start date\"], **kwargs)"
   ]
  },
  {
   "cell_type": "code",
   "execution_count": null,
   "metadata": {},
   "outputs": [],
   "source": [
    "COLOR = \"black\"\n",
    "matplotlib.rcParams[\"text.color\"] = COLOR\n",
    "matplotlib.rcParams[\"axes.labelcolor\"] = COLOR\n",
    "matplotlib.rcParams[\"xtick.color\"] = COLOR\n",
    "matplotlib.rcParams[\"ytick.color\"] = COLOR"
   ]
  },
  {
   "cell_type": "code",
   "execution_count": null,
   "metadata": {},
   "outputs": [],
   "source": [
    "from pathlib import Path\n",
    "\n",
    "data_dir = Path(\".\").resolve().parent / \"data\"\n",
    "df = pd.read_csv(data_dir / \"event-data - Sheet1.csv\")\n",
    "df[\"Start date\"] = pd.to_datetime(df[\"Start date\"])\n",
    "df[\"co-organized\"].fillna(\"\", inplace=True)\n",
    "no_collab = df.query(\"`co-organized` == ''\").copy()"
   ]
  },
  {
   "cell_type": "code",
   "execution_count": null,
   "metadata": {},
   "outputs": [],
   "source": [
    "start = df[\"Start date\"].min()\n",
    "end = df[\"Start date\"].max()"
   ]
  },
  {
   "cell_type": "code",
   "execution_count": null,
   "metadata": {},
   "outputs": [],
   "source": [
    "label2data = {\n",
    "    \"Teaching\": get_date_series(\n",
    "        no_collab.query(\"type == 'teach'\"), start=start, end=end\n",
    "    ),\n",
    "    \"Co-teaching\": get_date_series(\n",
    "        df.query(\"`co-organized` != '' & type == 'teach'\"), start=start, end=end\n",
    "    ),\n",
    "    \"Outreach\": get_date_series(\n",
    "        no_collab.query(\"type == 'outreach'\"), start=start, end=end\n",
    "    ),\n",
    "    \"Internal events\": get_date_series(\n",
    "        no_collab.query(\"type != ['teach','outreach']\"), start=start, end=end\n",
    "    ),\n",
    "}\n",
    "\n",
    "accounted_for = [v.max() for v in label2data.values()]\n",
    "assert sum(accounted_for) == df[\"Registrations\"].sum(), (\n",
    "    accounted_for,\n",
    "    sum(accounted_for),\n",
    "    df[\"Registrations\"].sum(),\n",
    ")"
   ]
  },
  {
   "cell_type": "code",
   "execution_count": null,
   "metadata": {},
   "outputs": [],
   "source": [
    "# ax = get_date_series(df).plot(label=\"Total\", lw=3)\n",
    "fig, ax = plt.subplots()\n",
    "baseline = None\n",
    "for key, value in label2data.items():\n",
    "    if baseline is None:\n",
    "        baseline = np.zeros_like(value)\n",
    "    label = f\"{key} ($\\Sigma$={int(value.max()):,})\"\n",
    "    ax.stairs(\n",
    "        value.to_numpy() + baseline,\n",
    "        [*value.index, datetime.datetime.now()],\n",
    "        baseline=baseline,\n",
    "        label=label,\n",
    "        fill=True,\n",
    "    )\n",
    "    baseline += value\n",
    "ax.legend(loc=\"upper left\", frameon=False)\n",
    "ax.set_ylabel(\"Registrations\")\n",
    "ax.set_xlabel(\"Event start date\")\n",
    "\n",
    "import matplotlib.dates as mdates\n",
    "\n",
    "ax.xaxis.set_major_locator(mdates.MonthLocator(interval=6))\n",
    "fig.autofmt_xdate()"
   ]
  },
  {
   "cell_type": "code",
   "execution_count": null,
   "metadata": {},
   "outputs": [],
   "source": [
    "get_date_series(df).to_csv(data_dir / \"total_participants_events.csv\")"
   ]
  },
  {
   "cell_type": "code",
   "execution_count": null,
   "metadata": {},
   "outputs": [],
   "source": [
    "df[\"Registrations\"].sum()"
   ]
  },
  {
   "cell_type": "code",
   "execution_count": null,
   "metadata": {},
   "outputs": [],
   "source": [
    "_, ax = plt.subplots()\n",
    "colors = plt.rcParams[\"axes.prop_cycle\"].by_key()[\"color\"]\n",
    "ys = []\n",
    "xs = []\n",
    "swcs = df.query(\"type == 'teach' & Category == 'SWC'\")\n",
    "ys.extend(swcs[\"Registrations\"].to_list())\n",
    "xs.extend([f\"SWC {d:%m-%y}\" for d in swcs[\"Start date\"]])\n",
    "singles = df.query(\"type == 'teach' & Category == 'single-module'\")\n",
    "ys.extend(singles[\"Registrations\"])\n",
    "xs.extend(singles[\"Topics (comma-separated)\"])\n",
    "ax.set_xticks(list(range(len(xs))))\n",
    "ax.set_xticklabels(xs, rotation=45)\n",
    "\n",
    "ax.bar(list(range(len(xs)))[:-3], ys[:-3], label=\"Absolute basics\")\n",
    "ax.bar(list(range(len(xs)))[-3], ys[-3], color=colors[1], label=\"Basic\")\n",
    "ax.bar(list(range(len(xs)))[-2:], ys[-2:], color=colors[2], label=\"Intermediate\")\n",
    "ax.legend()\n",
    "ax.set_ylabel(\"Participants\")"
   ]
  },
  {
   "cell_type": "code",
   "execution_count": null,
   "metadata": {},
   "outputs": [],
   "source": []
  }
 ],
 "metadata": {
  "kernelspec": {
   "display_name": "Python 3",
   "language": "python",
   "name": "python3"
  },
  "language_info": {
   "codemirror_mode": {
    "name": "ipython",
    "version": 2
   },
   "file_extension": ".py",
   "mimetype": "text/x-python",
   "name": "python",
   "nbconvert_exporter": "python",
   "pygments_lexer": "ipython2",
   "version": "2.7.6"
  }
 },
 "nbformat": 4,
 "nbformat_minor": 0
}
