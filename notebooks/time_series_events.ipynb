{
 "cells": [
  {
   "cell_type": "code",
   "execution_count": null,
   "metadata": {},
   "outputs": [],
   "source": [
    "import numpy as np\n",
    "import datetime\n",
    "import pandas as pd\n",
    "import matplotlib.pyplot as plt\n",
    "import dufte\n",
    "\n",
    "plt.style.use(dufte.style)\n",
    "\n",
    "\n",
    "def weighted_dates2series(\n",
    "    participants: np.ndarray,\n",
    "    dates: np.ndarray,\n",
    ") -> pd.Series:\n",
    "    start = min(dates)\n",
    "    end = max(dates)\n",
    "    index = [start + i * datetime.timedelta(days=1) for i in range((end - start).days)]\n",
    "    # terribly inefficient\n",
    "    values = [participants[dates < ind].sum() for ind in index]\n",
    "    return pd.Series(values, index=index)"
   ]
  },
  {
   "cell_type": "code",
   "execution_count": null,
   "metadata": {},
   "outputs": [],
   "source": [
    "from pathlib import Path\n",
    "\n",
    "data_dir = Path(\".\").resolve().parent / \"data\"\n",
    "df = pd.read_csv(data_dir / \"event-data - Sheet1.csv\")\n",
    "df[\"Start date\"] = pd.to_datetime(df[\"Start date\"])"
   ]
  },
  {
   "cell_type": "code",
   "execution_count": null,
   "metadata": {},
   "outputs": [],
   "source": [
    "date2parts = weighted_dates2series(df[\"Registrations\"], df[\"Start date\"])\n",
    "teach_only = df.query(\"type == 'teach'\")\n",
    "date2parts_teach = weighted_dates2series(\n",
    "    teach_only[\"Registrations\"], teach_only[\"Start date\"]\n",
    ")"
   ]
  },
  {
   "cell_type": "code",
   "execution_count": null,
   "metadata": {},
   "outputs": [],
   "source": [
    "ax = date2parts.plot(label=\"All\")\n",
    "date2parts_teach.plot(ax=ax, label=\"Teaching only\", ls=\":\")\n",
    "ax.legend(frameon=False)\n",
    "ax.set_ylabel(\"Registrations\")\n",
    "ax.set_xlabel(\"Event start date\")"
   ]
  },
  {
   "cell_type": "markdown",
   "metadata": {},
   "source": [
    "**Still excluding outreach**\n"
   ]
  }
 ],
 "metadata": {
  "kernelspec": {
   "display_name": "Python 3",
   "language": "python",
   "name": "python3"
  },
  "language_info": {
   "codemirror_mode": {
    "name": "ipython",
    "version": 2
   },
   "file_extension": ".py",
   "mimetype": "text/x-python",
   "name": "python",
   "nbconvert_exporter": "python",
   "pygments_lexer": "ipython2",
   "version": "2.7.6"
  }
 },
 "nbformat": 4,
 "nbformat_minor": 0
}
