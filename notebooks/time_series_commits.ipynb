{
 "cells": [
  {
   "cell_type": "code",
   "execution_count": null,
   "metadata": {},
   "outputs": [],
   "source": [
    "import datetime\n",
    "from dateutil import parser as date_parser\n",
    "import git\n",
    "from pathlib import Path\n",
    "from datetime import date\n",
    "from matplotlib import pyplot as plt\n",
    "import pandas as pd\n",
    "\n",
    "plt.style.use(\"science\")\n",
    "plt.style.use(\"notebook\")"
   ]
  },
  {
   "cell_type": "code",
   "execution_count": null,
   "metadata": {},
   "outputs": [],
   "source": [
    "base_path = Path(\"~/Documents/22/git_sync/hsf-training/\").expanduser()\n",
    "repo_paths = [p for p in base_path.iterdir() if p.is_dir() and (p / \".git\").is_dir()]\n",
    "print(f\"{len(repo_paths) = }\")"
   ]
  },
  {
   "cell_type": "code",
   "execution_count": null,
   "metadata": {},
   "outputs": [],
   "source": [
    "from collections import defaultdict\n",
    "\n",
    "\n",
    "class CommitCounter:\n",
    "    def __init__(self):\n",
    "        self._commit_messages = set()\n",
    "        #: Unique commits only\n",
    "        self.timestamps = []\n",
    "        #: Commits per repo\n",
    "        self.timestamps_by_repo = defaultdict(list)\n",
    "        self.duplicates = 0\n",
    "\n",
    "    def ignore_commits_from(self, repo_path: Path):\n",
    "        r = git.Repo(repo_path)\n",
    "        ign = 0\n",
    "        for commit in r.iter_commits():\n",
    "            if not commit.message in self._commit_messages:\n",
    "                ign += 1\n",
    "            self._commit_messages.add(commit.message)\n",
    "        print(f\"Ignored {ign:,} additional commits\")\n",
    "\n",
    "    def scan_repo(self, repo_path: Path):\n",
    "        r = git.Repo(repo_path)\n",
    "        for commit in r.iter_commits():\n",
    "            cd = date.fromtimestamp(commit.committed_date)\n",
    "            if commit.message in self._commit_messages:\n",
    "                self.duplicates += 1\n",
    "                continue\n",
    "            self.timestamps_by_repo[repo_path.name].append(cd)\n",
    "            self.timestamps.append(cd)\n",
    "            self._commit_messages.add(commit.message)"
   ]
  },
  {
   "cell_type": "code",
   "execution_count": null,
   "metadata": {},
   "outputs": [],
   "source": [
    "def dates2series(dates):\n",
    "    start = min(dates)\n",
    "    end = max(dates)\n",
    "    index = [start + i * datetime.timedelta(days=1) for i in range((end - start).days)]\n",
    "    # terribly inefficient\n",
    "    values = [len([d for d in dates if d < ind]) for ind in index]\n",
    "    return index, values"
   ]
  },
  {
   "cell_type": "code",
   "execution_count": null,
   "metadata": {},
   "outputs": [],
   "source": [
    "cc = CommitCounter()\n",
    "cc.ignore_commits_from(Path(\"~/Documents/22/git_sync/styles/\").expanduser())\n",
    "cc.ignore_commits_from(\n",
    "    Path(\"~/Documents/22/git_sync/python-novice-inflammation/\").expanduser()\n",
    ")\n",
    "cc.ignore_commits_from(Path(\"~/Documents/22/git_sync/git-novice/\").expanduser())\n",
    "cc.ignore_commits_from(Path(\"~/Documents/22/git_sync/shell-novice/\").expanduser())\n",
    "cc.ignore_commits_from(\n",
    "    Path(\"~/Documents/22/git_sync/git-novice-branch-pr/\").expanduser()\n",
    ")\n",
    "cc.ignore_commits_from(Path(\"~/Documents/22/git_sync/workshop-template/\").expanduser())\n",
    "for r in repo_paths:\n",
    "    cc.scan_repo(r)"
   ]
  },
  {
   "cell_type": "code",
   "execution_count": null,
   "metadata": {},
   "outputs": [],
   "source": [
    "print(f\"{cc.duplicates = }\")"
   ]
  },
  {
   "cell_type": "code",
   "execution_count": null,
   "metadata": {},
   "outputs": [],
   "source": [
    "dates, cumm = dates2series(cc.timestamps)"
   ]
  },
  {
   "cell_type": "code",
   "execution_count": null,
   "metadata": {},
   "outputs": [],
   "source": [
    "fig, ax = plt.subplots()\n",
    "ax.plot(dates, cumm)\n",
    "ax.set_xlabel(\"Date\")\n",
    "ax.set_ylabel(\"Number of unique commits\")\n",
    "ax.set_xlim(date_parser.parse(\"01/01/2019\"), datetime.datetime.now())\n",
    "import matplotlib.dates as mdates\n",
    "\n",
    "ax.xaxis.set_major_locator(mdates.MonthLocator(interval=6))\n",
    "fig.autofmt_xdate()"
   ]
  },
  {
   "cell_type": "code",
   "execution_count": null,
   "metadata": {},
   "outputs": [],
   "source": [
    "data_dir = Path(\".\").resolve().parent / \"data\"\n",
    "assert data_dir.is_dir()\n",
    "pd.Series(cumm, index=dates).to_csv(data_dir / \"total_commits.csv\")"
   ]
  },
  {
   "cell_type": "code",
   "execution_count": null,
   "metadata": {},
   "outputs": [],
   "source": [
    "label_mapping = {\n",
    "    \"ml\": \"Machine learning\",\n",
    "    \"cpluspluscourse\": \"C++\",\n",
    "    \"cmake\": \"CMake\",\n",
    "    \"cicd github\": \"CI/CD w/ github\",\n",
    "}"
   ]
  },
  {
   "cell_type": "code",
   "execution_count": null,
   "metadata": {},
   "outputs": [],
   "source": [
    "fig, ax = plt.subplots()\n",
    "start_date = date_parser.parse(\"01/01/2019\")\n",
    "for r, vs in cc.timestamps_by_repo.items():\n",
    "    # [d for d in vs if d > start_date.date()]\n",
    "    label = None\n",
    "    alpha = 0.3\n",
    "    ls = \"-.\"\n",
    "    dates, cumm = dates2series(vs)\n",
    "    if len(vs) >= 90:\n",
    "        l = r.replace(\"hsf-training-\", \"\").replace(\"-webpage\", \"\").replace(\"-\", \" \")\n",
    "        label = label_mapping.get(l, l)\n",
    "        alpha = 1\n",
    "        label += rf\" ($\\Sigma$={max(cumm):,})\"\n",
    "        ls = \"-\"\n",
    "    ax.plot(dates, cumm, label=label, alpha=alpha, ls=ls)\n",
    "ax.set_xlim(start_date, datetime.datetime.now())\n",
    "ax.legend()\n",
    "ax.set_ylabel(\"Number of commits w/o carpentries\")\n",
    "ax.xaxis.set_major_locator(mdates.MonthLocator(interval=6))\n",
    "fig.autofmt_xdate()"
   ]
  },
  {
   "cell_type": "code",
   "execution_count": null,
   "metadata": {},
   "outputs": [],
   "source": [
    "# import numpy as np\n",
    "#\n",
    "# fig, ax = plt.subplots()\n",
    "# start_date = date_parser.parse(\"01/01/2019\")\n",
    "# baseline = None\n",
    "# for key, value in cc.timestamps_by_repo.items():\n",
    "#     if baseline is None:\n",
    "#         baseline = np.zeros_like(value)\n",
    "#     dates, cumm = dates2series(vs)\n",
    "#     label = None\n",
    "#     ax.stairs(cumm+baseline, [*dates, datetime.datetime.now()], baseline=baseline, label=label, fill=True)\n",
    "#     baseline = value\n",
    "# ax.set_xlim(start_date, datetime.datetime.now())\n",
    "# ax.legend()\n",
    "# ax.set_ylabel(\"Number of commits w/o carpentries\")\n",
    "# ax.xaxis.set_major_locator(mdates.MonthLocator(interval=6))\n",
    "# fig.autofmt_xdate()"
   ]
  },
  {
   "cell_type": "code",
   "execution_count": null,
   "metadata": {},
   "outputs": [],
   "source": []
  }
 ],
 "metadata": {
  "kernelspec": {
   "display_name": "Python 3",
   "language": "python",
   "name": "python3"
  },
  "language_info": {
   "codemirror_mode": {
    "name": "ipython",
    "version": 2
   },
   "file_extension": ".py",
   "mimetype": "text/x-python",
   "name": "python",
   "nbconvert_exporter": "python",
   "pygments_lexer": "ipython2",
   "version": "2.7.6"
  }
 },
 "nbformat": 4,
 "nbformat_minor": 0
}
