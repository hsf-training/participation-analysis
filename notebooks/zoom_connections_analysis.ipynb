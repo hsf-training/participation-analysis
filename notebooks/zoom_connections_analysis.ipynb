{
 "cells": [
  {
   "cell_type": "code",
   "execution_count": null,
   "metadata": {},
   "outputs": [],
   "source": [
    "from dataclasses import dataclass\n",
    "from dateutil import parser as date_parser\n",
    "\n",
    "import numpy as np\n",
    "\n",
    "import matplotlib.pyplot as plt\n",
    "import pandas as pd\n",
    "from pathlib import Path\n",
    "from fuzzywuzzy import fuzz\n",
    "\n",
    "%matplotlib inline"
   ]
  },
  {
   "cell_type": "code",
   "execution_count": null,
   "metadata": {},
   "outputs": [],
   "source": [
    "data_dir = Path(\".\").parent.resolve().parent / \"data\"\n",
    "assert data_dir.is_dir()"
   ]
  },
  {
   "cell_type": "code",
   "execution_count": null,
   "metadata": {},
   "outputs": [],
   "source": [
    "df = pd.read_csv(data_dir / \"participants_66360376183.csv\")\n",
    "indico_df = pd.read_csv(data_dir / \"indico_registrations.csv\")"
   ]
  },
  {
   "cell_type": "code",
   "execution_count": null,
   "metadata": {},
   "outputs": [],
   "source": [
    "indico_df.rename(\n",
    "    columns={\"Name\": \"name\", \"Experiment or Affiliation\": \"experiment\"},\n",
    "    inplace=True,\n",
    ")"
   ]
  },
  {
   "cell_type": "code",
   "execution_count": null,
   "metadata": {},
   "outputs": [],
   "source": [
    "df.rename(\n",
    "    columns={\"Name (Original Name)\": \"name\", \"Join Time\": \"start\", \"Leave Time\": \"end\"},\n",
    "    inplace=True,\n",
    ")\n",
    "df[\"start\"] = pd.to_datetime(df[\"start\"])\n",
    "df[\"end\"] = pd.to_datetime(df[\"end\"])"
   ]
  },
  {
   "cell_type": "code",
   "execution_count": null,
   "metadata": {},
   "outputs": [],
   "source": [
    "names = df.name.unique()"
   ]
  },
  {
   "cell_type": "code",
   "execution_count": null,
   "metadata": {},
   "outputs": [],
   "source": [
    "def match_names(index_names: np.ndarray, target_names: np.ndarray):\n",
    "    \"\"\"Match names from index_names to target_names using fuzzy matching.\n",
    "\n",
    "    Parameters\n",
    "    ----------\n",
    "    index_names : np.ndarray\n",
    "        Names to match.\n",
    "    target_names : np.ndarray\n",
    "        Names to match to.\n",
    "\n",
    "    Returns\n",
    "    -------\n",
    "    np.ndarray\n",
    "        Array of indices of target_names that match index_names.\n",
    "    \"\"\"\n",
    "    matches = []\n",
    "    scores = []\n",
    "    for i, name in enumerate(index_names):\n",
    "        fuzzies = [fuzz.ratio(name, target_name) for target_name in target_names]\n",
    "        idx = np.argmax(fuzzies)\n",
    "        matches.append(target_names[idx])\n",
    "        scores.append(fuzzies[idx])\n",
    "    return matches, scores"
   ]
  },
  {
   "cell_type": "code",
   "execution_count": null,
   "metadata": {},
   "outputs": [],
   "source": [
    "df[\"indico_name\"], df[\"indico_name_fuzzy_match_score\"] = match_names(\n",
    "    df.name.to_numpy(), indico_df.name.to_numpy()\n",
    ")"
   ]
  },
  {
   "cell_type": "code",
   "execution_count": null,
   "metadata": {},
   "outputs": [],
   "source": [
    "joined_names = df.query(\"indico_name_fuzzy_match_score > 80\")[\"indico_name\"].unique()"
   ]
  },
  {
   "cell_type": "code",
   "execution_count": null,
   "metadata": {},
   "outputs": [],
   "source": [
    "sel_df = indico_df[indico_df.name.isin(joined_names)]\n",
    "sel_df.experiment.value_counts() / len(sel_df)"
   ]
  },
  {
   "cell_type": "code",
   "execution_count": null,
   "metadata": {},
   "outputs": [],
   "source": [
    "indico_df.experiment.value_counts() / len(indico_df)"
   ]
  },
  {
   "cell_type": "code",
   "execution_count": null,
   "metadata": {},
   "outputs": [],
   "source": [
    "# df_merged = df.merge(indico_df, left_on=\"indico_name\", right_index=True).drop(columns=[\"name_y\"]).rename(columns={\"name_x\": \"name\"})"
   ]
  },
  {
   "cell_type": "code",
   "execution_count": null,
   "metadata": {},
   "outputs": [],
   "source": [
    "@dataclass\n",
    "class Session:\n",
    "    def __init__(self, name, start, end):\n",
    "        self.name = name\n",
    "        self.start = date_parser.parse(start)\n",
    "        self.end = date_parser.parse(end)\n",
    "\n",
    "    @property\n",
    "    def duration(self):\n",
    "        return self.end - self.start"
   ]
  },
  {
   "cell_type": "code",
   "execution_count": null,
   "metadata": {},
   "outputs": [],
   "source": [
    "def get_participants_of_session(\n",
    "    df: pd.DataFrame, session: Session, min_time_frac=0.3\n",
    ") -> np.ndarray:\n",
    "    _a = np.minimum(df[\"end\"], pd.to_datetime([session.end] * len(df)))\n",
    "    _b = np.maximum(df[\"start\"], pd.to_datetime([session.start] * len(df)))\n",
    "    df[\"tmp_overlap_min\"] = (_a - _b).dt.total_seconds() / 60\n",
    "    min_time_min = (session.duration * min_time_frac).total_seconds() / 60\n",
    "    return df.query(f\"tmp_overlap_min > {min_time_min}\").name.unique()"
   ]
  },
  {
   "cell_type": "markdown",
   "metadata": {},
   "source": []
  },
  {
   "cell_type": "code",
   "execution_count": null,
   "metadata": {},
   "outputs": [],
   "source": [
    "sessions = [\n",
    "    Session(\"bash\", \"2022-09-28 10:00\", \"2022-09-28 12:30\"),\n",
    "    Session(\"python 1\", \"2022-09-28 13:45\", \"2022-09-28 17:00\"),\n",
    "    Session(\"git\", \"2022-09-29 10:00\", \"2022-09-28 13:00\"),\n",
    "    Session(\"python 2\", \"2022-09-29 13:45\", \"2022-09-28 17:00\"),\n",
    "]"
   ]
  },
  {
   "cell_type": "code",
   "execution_count": null,
   "metadata": {},
   "outputs": [],
   "source": [
    "for s in sessions:\n",
    "    print(f\"{s.name}: {len(get_participants_of_session(df, s))}\")"
   ]
  },
  {
   "cell_type": "code",
   "execution_count": null,
   "metadata": {},
   "outputs": [],
   "source": [
    "def get_overlap_matrix(df, sessions: list[Session]) -> np.ndarray:\n",
    "    n = len(sessions)\n",
    "    overlap_matrix = np.zeros((n, n))\n",
    "    for i, s1 in enumerate(sessions):\n",
    "        for j, s2 in enumerate(sessions):\n",
    "            participants_s1 = get_participants_of_session(df, s1)\n",
    "            participants_s2 = get_participants_of_session(df, s2)\n",
    "            overlap_matrix[i, j] = len(np.intersect1d(participants_s1, participants_s2))\n",
    "    return overlap_matrix"
   ]
  },
  {
   "cell_type": "code",
   "execution_count": null,
   "metadata": {},
   "outputs": [],
   "source": [
    "get_overlap_matrix(df, sessions)"
   ]
  }
 ],
 "metadata": {
  "kernelspec": {
   "display_name": "Python 3",
   "language": "python",
   "name": "python3"
  },
  "language_info": {
   "codemirror_mode": {
    "name": "ipython",
    "version": 2
   },
   "file_extension": ".py",
   "mimetype": "text/x-python",
   "name": "python",
   "nbconvert_exporter": "python",
   "pygments_lexer": "ipython2",
   "version": "2.7.6"
  }
 },
 "nbformat": 4,
 "nbformat_minor": 0
}
