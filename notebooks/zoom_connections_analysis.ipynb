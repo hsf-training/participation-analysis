{
 "cells": [
  {
   "cell_type": "code",
   "execution_count": null,
   "metadata": {},
   "outputs": [],
   "source": [
    "import datetime\n",
    "from dataclasses import dataclass\n",
    "from dateutil import parser as date_parser\n",
    "\n",
    "import numpy as np\n",
    "\n",
    "import pandas as pd\n",
    "from pathlib import Path"
   ]
  },
  {
   "cell_type": "code",
   "execution_count": null,
   "metadata": {},
   "outputs": [],
   "source": [
    "data_dir = Path(\".\").parent.resolve().parent / \"data\"\n",
    "assert data_dir.is_dir()"
   ]
  },
  {
   "cell_type": "code",
   "execution_count": null,
   "metadata": {},
   "outputs": [],
   "source": [
    "df = pd.read_csv(data_dir / \"participants_66360376183.csv\")"
   ]
  },
  {
   "cell_type": "code",
   "execution_count": null,
   "metadata": {},
   "outputs": [],
   "source": [
    "df.rename(\n",
    "    columns={\"Name (Original Name)\": \"name\", \"Join Time\": \"start\", \"Leave Time\": \"end\"},\n",
    "    inplace=True,\n",
    ")\n",
    "df[\"start\"] = pd.to_datetime(df[\"start\"])\n",
    "df[\"end\"] = pd.to_datetime(df[\"end\"])"
   ]
  },
  {
   "cell_type": "code",
   "execution_count": null,
   "metadata": {},
   "outputs": [],
   "source": [
    "df"
   ]
  },
  {
   "cell_type": "code",
   "execution_count": null,
   "metadata": {},
   "outputs": [],
   "source": [
    "names = df.name.unique()"
   ]
  },
  {
   "cell_type": "code",
   "execution_count": null,
   "metadata": {},
   "outputs": [],
   "source": [
    "@dataclass\n",
    "class Session:\n",
    "    def __init__(self, name, start, end):\n",
    "        self.name = name\n",
    "        self.start = date_parser.parse(start)\n",
    "        self.end = date_parser.parse(end)\n",
    "\n",
    "    @property\n",
    "    def duration(self):\n",
    "        return self.end - self.start"
   ]
  },
  {
   "cell_type": "code",
   "execution_count": null,
   "metadata": {},
   "outputs": [],
   "source": [
    "np.maximum(df.start.to_numpy(), pd.to_datetime([\"2020-10-01 00:00:00\"]))"
   ]
  },
  {
   "cell_type": "code",
   "execution_count": null,
   "metadata": {},
   "outputs": [],
   "source": [
    "np.array([date_parser.parse(\"2020-10-01 00:00:00\")] * len(df)).dtype"
   ]
  },
  {
   "cell_type": "code",
   "execution_count": null,
   "metadata": {},
   "outputs": [],
   "source": [
    "df.start.to_numpy() > df.start.to_numpy()"
   ]
  },
  {
   "cell_type": "code",
   "execution_count": null,
   "metadata": {},
   "outputs": [],
   "source": [
    "sessions[0].start"
   ]
  },
  {
   "cell_type": "code",
   "execution_count": null,
   "metadata": {},
   "outputs": [],
   "source": [
    "def get_n_participants_of_session(\n",
    "    df: pd.DataFrame, session: Session, min_time_frac=0.3\n",
    ") -> int:\n",
    "    _a = np.minimum(df[\"end\"], pd.to_datetime([session.end] * len(df)))\n",
    "    _b = np.maximum(df[\"start\"], pd.to_datetime([session.start] * len(df)))\n",
    "    df[\"tmp_overlap_min\"] = (_a - _b).dt.total_seconds() / 60\n",
    "    min_time_min = (session.duration * min_time_frac).total_seconds() / 60\n",
    "    return len(df.query(f\"tmp_overlap_min > {min_time_min}\").name.unique())"
   ]
  },
  {
   "cell_type": "code",
   "execution_count": null,
   "metadata": {},
   "outputs": [],
   "source": [
    "sessions = [\n",
    "    Session(\"bash\", \"2022-09-28 10:00\", \"2022-09-28 12:30\"),\n",
    "    Session(\"python 1\", \"2022-09-28 13:45\", \"2022-09-28 17:00\"),\n",
    "    Session(\"git\", \"2022-09-29 10:00\", \"2022-09-28 13:00\"),\n",
    "    Session(\"python 2\", \"2022-09-29 13:45\", \"2022-09-28 17:00\"),\n",
    "]"
   ]
  },
  {
   "cell_type": "code",
   "execution_count": null,
   "metadata": {},
   "outputs": [],
   "source": [
    "for s in sessions:\n",
    "    print(f\"{s.name}: {get_n_participants_of_session(df, s)}\")"
   ]
  }
 ],
 "metadata": {
  "kernelspec": {
   "display_name": "Python 3",
   "language": "python",
   "name": "python3"
  },
  "language_info": {
   "codemirror_mode": {
    "name": "ipython",
    "version": 2
   },
   "file_extension": ".py",
   "mimetype": "text/x-python",
   "name": "python",
   "nbconvert_exporter": "python",
   "pygments_lexer": "ipython2",
   "version": "2.7.6"
  }
 },
 "nbformat": 4,
 "nbformat_minor": 0
}
