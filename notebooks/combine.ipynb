{
 "cells": [
  {
   "cell_type": "code",
   "execution_count": null,
   "metadata": {},
   "outputs": [],
   "source": [
    "from pathlib import Path\n",
    "\n",
    "data_dir = Path(\".\").resolve().parent / \"data\"\n",
    "assert data_dir.is_dir()\n",
    "import matplotlib.pyplot as plt\n",
    "\n",
    "plt.style.use(\"science\")\n",
    "plt.style.use(\"notebook\")"
   ]
  },
  {
   "cell_type": "code",
   "execution_count": null,
   "metadata": {},
   "outputs": [],
   "source": [
    "def read_timeseries(path):\n",
    "    df = pd.read_csv(path, names=[\"index\", \"values\"]).dropna()\n",
    "    s = df[\"values\"]\n",
    "    s.index = pd.to_datetime(df[\"index\"])\n",
    "    return s"
   ]
  },
  {
   "cell_type": "code",
   "execution_count": null,
   "metadata": {},
   "outputs": [],
   "source": [
    "import pandas as pd\n",
    "\n",
    "total_commits = read_timeseries(data_dir / \"total_commits.csv\")\n",
    "total_educators = read_timeseries(data_dir / \"total_educators.csv\")\n",
    "total_cauthors = read_timeseries(data_dir / \"total_commit_authors.csv\")\n",
    "total_participants = read_timeseries(data_dir / \"total_participants_events.csv\")"
   ]
  },
  {
   "cell_type": "code",
   "execution_count": null,
   "metadata": {},
   "outputs": [],
   "source": [
    "from matplotlib import pyplot as plt\n",
    "import datetime\n",
    "from dateutil import parser as date_parser\n",
    "\n",
    "\n",
    "def norm(s):\n",
    "    return s / s.max()\n",
    "\n",
    "\n",
    "fig, ax = plt.subplots()\n",
    "# ax.set_box_aspect(1)\n",
    "ax = norm(total_participants).plot(\n",
    "    ax=ax, label=f\"Registrations  ($\\Sigma$={int(total_participants.max()):,})\", lw=3.5\n",
    ")\n",
    "ax = norm(total_commits).plot(\n",
    "    ax=ax,\n",
    "    label=f\"Unique commits ($\\Sigma$={total_commits.max():,})\",\n",
    ")\n",
    "ax = norm(total_educators).plot(\n",
    "    ax=ax, label=f\"Educators ($\\Sigma$={total_educators.max():,})\", ls=\"--\"\n",
    ")\n",
    "ax = norm(total_cauthors).plot(\n",
    "    ax=ax, label=f\"Unique commit authors ($\\Sigma$={total_cauthors.max():,})\", ls=\"--\"\n",
    ")\n",
    "\n",
    "ax.set_xlim(date_parser.parse(\"01/01/2020\"), datetime.datetime.now())\n",
    "ax.set_xlim()\n",
    "ax.set_ylabel(\"Normalized in arb. units\")\n",
    "ax.legend(fontsize=14)\n",
    "import matplotlib.dates as mdates\n",
    "\n",
    "# ax.xaxis.set_major_locator(mdates.MonthLocator(interval=6))\n",
    "# fig.autofmt_xdate()\n",
    "ax.set_xlabel(\"\")\n",
    "ax.set_title(\n",
    "    \"Cumulative statistics (w/o carpentry contributions to commits)\", fontsize=12\n",
    ")"
   ]
  },
  {
   "cell_type": "code",
   "execution_count": null,
   "metadata": {},
   "outputs": [],
   "source": [
    "fig.savefig(\n",
    "    \"combined.png\",\n",
    ")"
   ]
  },
  {
   "cell_type": "code",
   "execution_count": null,
   "metadata": {},
   "outputs": [],
   "source": []
  }
 ],
 "metadata": {
  "kernelspec": {
   "display_name": "Python 3",
   "language": "python",
   "name": "python3"
  },
  "language_info": {
   "codemirror_mode": {
    "name": "ipython",
    "version": 2
   },
   "file_extension": ".py",
   "mimetype": "text/x-python",
   "name": "python",
   "nbconvert_exporter": "python",
   "pygments_lexer": "ipython2",
   "version": "2.7.6"
  }
 },
 "nbformat": 4,
 "nbformat_minor": 0
}
